{
 "cells": [
  {
   "cell_type": "code",
   "execution_count": 1,
   "metadata": {},
   "outputs": [
    {
     "ename": "SyntaxError",
     "evalue": "Missing parentheses in call to 'print'. Did you mean print(c_count.value)? (pynvml.py, line 1671)",
     "output_type": "error",
     "traceback": [
      "Traceback \u001b[0;36m(most recent call last)\u001b[0m:\n",
      "  File \u001b[1;32m\"/home/zhongyangzha/anaconda3/envs/dvs_pose/lib/python3.8/site-packages/IPython/core/interactiveshell.py\"\u001b[0m, line \u001b[1;32m3444\u001b[0m, in \u001b[1;35mrun_code\u001b[0m\n    exec(code_obj, self.user_global_ns, self.user_ns)\n",
      "  File \u001b[1;32m\"<ipython-input-1-d71e3f91c95c>\"\u001b[0m, line \u001b[1;32m8\u001b[0m, in \u001b[1;35m<module>\u001b[0m\n    from scripts.data import DataInterface\n",
      "  File \u001b[1;32m\"/mnt/nfs/scratch1/zhongyangzha/U2NetTORE/notebooks/../scripts/data/__init__.py\"\u001b[0m, line \u001b[1;32m1\u001b[0m, in \u001b[1;35m<module>\u001b[0m\n    from .dataset import DataInterface\n",
      "  File \u001b[1;32m\"/mnt/nfs/scratch1/zhongyangzha/U2NetTORE/notebooks/../scripts/data/dataset.py\"\u001b[0m, line \u001b[1;32m4\u001b[0m, in \u001b[1;35m<module>\u001b[0m\n    import pytorch_lightning as pl\n",
      "  File \u001b[1;32m\"/home/zhongyangzha/anaconda3/envs/dvs_pose/lib/python3.8/site-packages/pytorch_lightning/__init__.py\"\u001b[0m, line \u001b[1;32m20\u001b[0m, in \u001b[1;35m<module>\u001b[0m\n    from pytorch_lightning.callbacks import Callback  # noqa: E402\n",
      "  File \u001b[1;32m\"/home/zhongyangzha/anaconda3/envs/dvs_pose/lib/python3.8/site-packages/pytorch_lightning/callbacks/__init__.py\"\u001b[0m, line \u001b[1;32m26\u001b[0m, in \u001b[1;35m<module>\u001b[0m\n    from pytorch_lightning.callbacks.pruning import ModelPruning\n",
      "  File \u001b[1;32m\"/home/zhongyangzha/anaconda3/envs/dvs_pose/lib/python3.8/site-packages/pytorch_lightning/callbacks/pruning.py\"\u001b[0m, line \u001b[1;32m31\u001b[0m, in \u001b[1;35m<module>\u001b[0m\n    from pytorch_lightning.core.lightning import LightningModule\n",
      "  File \u001b[1;32m\"/home/zhongyangzha/anaconda3/envs/dvs_pose/lib/python3.8/site-packages/pytorch_lightning/core/__init__.py\"\u001b[0m, line \u001b[1;32m16\u001b[0m, in \u001b[1;35m<module>\u001b[0m\n    from pytorch_lightning.core.lightning import LightningModule\n",
      "  File \u001b[1;32m\"/home/zhongyangzha/anaconda3/envs/dvs_pose/lib/python3.8/site-packages/pytorch_lightning/core/lightning.py\"\u001b[0m, line \u001b[1;32m39\u001b[0m, in \u001b[1;35m<module>\u001b[0m\n    from pytorch_lightning.trainer.connectors.logger_connector.fx_validator import _FxValidator\n",
      "  File \u001b[1;32m\"/home/zhongyangzha/anaconda3/envs/dvs_pose/lib/python3.8/site-packages/pytorch_lightning/trainer/__init__.py\"\u001b[0m, line \u001b[1;32m16\u001b[0m, in \u001b[1;35m<module>\u001b[0m\n    from pytorch_lightning.trainer.trainer import Trainer\n",
      "  File \u001b[1;32m\"/home/zhongyangzha/anaconda3/envs/dvs_pose/lib/python3.8/site-packages/pytorch_lightning/trainer/trainer.py\"\u001b[0m, line \u001b[1;32m30\u001b[0m, in \u001b[1;35m<module>\u001b[0m\n    from pytorch_lightning.accelerators import Accelerator, IPUAccelerator\n",
      "  File \u001b[1;32m\"/home/zhongyangzha/anaconda3/envs/dvs_pose/lib/python3.8/site-packages/pytorch_lightning/accelerators/__init__.py\"\u001b[0m, line \u001b[1;32m13\u001b[0m, in \u001b[1;35m<module>\u001b[0m\n    from pytorch_lightning.accelerators.accelerator import Accelerator  # noqa: F401\n",
      "  File \u001b[1;32m\"/home/zhongyangzha/anaconda3/envs/dvs_pose/lib/python3.8/site-packages/pytorch_lightning/accelerators/accelerator.py\"\u001b[0m, line \u001b[1;32m26\u001b[0m, in \u001b[1;35m<module>\u001b[0m\n    from pytorch_lightning.plugins.precision import ApexMixedPrecisionPlugin, NativeMixedPrecisionPlugin, PrecisionPlugin\n",
      "  File \u001b[1;32m\"/home/zhongyangzha/anaconda3/envs/dvs_pose/lib/python3.8/site-packages/pytorch_lightning/plugins/__init__.py\"\u001b[0m, line \u001b[1;32m8\u001b[0m, in \u001b[1;35m<module>\u001b[0m\n    from pytorch_lightning.plugins.plugins_registry import (  # noqa: F401\n",
      "  File \u001b[1;32m\"/home/zhongyangzha/anaconda3/envs/dvs_pose/lib/python3.8/site-packages/pytorch_lightning/plugins/plugins_registry.py\"\u001b[0m, line \u001b[1;32m20\u001b[0m, in \u001b[1;35m<module>\u001b[0m\n    from pytorch_lightning.plugins.training_type.training_type_plugin import TrainingTypePlugin\n",
      "  File \u001b[1;32m\"/home/zhongyangzha/anaconda3/envs/dvs_pose/lib/python3.8/site-packages/pytorch_lightning/plugins/training_type/__init__.py\"\u001b[0m, line \u001b[1;32m13\u001b[0m, in \u001b[1;35m<module>\u001b[0m\n    from pytorch_lightning.plugins.training_type.tpu_spawn import TPUSpawnPlugin  # noqa: F401\n",
      "  File \u001b[1;32m\"/home/zhongyangzha/anaconda3/envs/dvs_pose/lib/python3.8/site-packages/pytorch_lightning/plugins/training_type/tpu_spawn.py\"\u001b[0m, line \u001b[1;32m27\u001b[0m, in \u001b[1;35m<module>\u001b[0m\n    from pytorch_lightning.loggers import LoggerCollection, TensorBoardLogger\n",
      "  File \u001b[1;32m\"/home/zhongyangzha/anaconda3/envs/dvs_pose/lib/python3.8/site-packages/pytorch_lightning/loggers/__init__.py\"\u001b[0m, line \u001b[1;32m22\u001b[0m, in \u001b[1;35m<module>\u001b[0m\n    from pytorch_lightning.loggers.comet import _COMET_AVAILABLE, CometLogger  # noqa: F401\n",
      "  File \u001b[1;32m\"/home/zhongyangzha/anaconda3/envs/dvs_pose/lib/python3.8/site-packages/pytorch_lightning/loggers/comet.py\"\u001b[0m, line \u001b[1;32m33\u001b[0m, in \u001b[1;35m<module>\u001b[0m\n    _COMET_AVAILABLE = _module_available(\"comet_ml\")\n",
      "  File \u001b[1;32m\"/home/zhongyangzha/anaconda3/envs/dvs_pose/lib/python3.8/site-packages/pytorch_lightning/utilities/imports.py\"\u001b[0m, line \u001b[1;32m57\u001b[0m, in \u001b[1;35m_module_available\u001b[0m\n    module = importlib.import_module(module_names[0])\n",
      "  File \u001b[1;32m\"/home/zhongyangzha/anaconda3/envs/dvs_pose/lib/python3.8/importlib/__init__.py\"\u001b[0m, line \u001b[1;32m127\u001b[0m, in \u001b[1;35mimport_module\u001b[0m\n    return _bootstrap._gcd_import(name[level:], package, level)\n",
      "  File \u001b[1;32m\"/home/zhongyangzha/anaconda3/envs/dvs_pose/lib/python3.8/site-packages/comet_ml/__init__.py\"\u001b[0m, line \u001b[1;32m29\u001b[0m, in \u001b[1;35m<module>\u001b[0m\n    from .api import API, APIExperiment\n",
      "  File \u001b[1;32m\"/home/zhongyangzha/anaconda3/envs/dvs_pose/lib/python3.8/site-packages/comet_ml/api.py\"\u001b[0m, line \u001b[1;32m28\u001b[0m, in \u001b[1;35m<module>\u001b[0m\n    from .experiment import CommonExperiment\n",
      "  File \u001b[1;32m\"/home/zhongyangzha/anaconda3/envs/dvs_pose/lib/python3.8/site-packages/comet_ml/experiment.py\"\u001b[0m, line \u001b[1;32m125\u001b[0m, in \u001b[1;35m<module>\u001b[0m\n    from .gpu_logging import (\n",
      "\u001b[0;36m  File \u001b[0;32m\"/home/zhongyangzha/anaconda3/envs/dvs_pose/lib/python3.8/site-packages/comet_ml/gpu_logging.py\"\u001b[0;36m, line \u001b[0;32m28\u001b[0;36m, in \u001b[0;35m<module>\u001b[0;36m\u001b[0m\n\u001b[0;31m    import pynvml\u001b[0m\n",
      "\u001b[0;36m  File \u001b[0;32m\"/cm/local/apps/cuda/libs/current/pynvml/pynvml.py\"\u001b[0;36m, line \u001b[0;32m1671\u001b[0m\n\u001b[0;31m    print c_count.value\u001b[0m\n\u001b[0m          ^\u001b[0m\n\u001b[0;31mSyntaxError\u001b[0m\u001b[0;31m:\u001b[0m Missing parentheses in call to 'print'. Did you mean print(c_count.value)?\n"
     ]
    }
   ],
   "source": [
    "import os\n",
    "import sys\n",
    "import os.path as op\n",
    "import numpy as np\n",
    "from matplotlib import pyplot as plt\n",
    "\n",
    "sys.path.append('..')\n",
    "from scripts.data import DataInterface\n",
    "from scripts.model import ModelInteface"
   ]
  },
  {
   "cell_type": "code",
   "execution_count": 5,
   "metadata": {},
   "outputs": [
    {
     "ename": "NameError",
     "evalue": "name 'DataInterface' is not defined",
     "output_type": "error",
     "traceback": [
      "\u001b[0;31m---------------------------------------------------------------------------\u001b[0m",
      "\u001b[0;31mNameError\u001b[0m                                 Traceback (most recent call last)",
      "\u001b[0;32m<ipython-input-5-5bcb5cb82615>\u001b[0m in \u001b[0;36m<module>\u001b[0;34m\u001b[0m\n\u001b[0;32m----> 1\u001b[0;31m \u001b[0mdata\u001b[0m \u001b[0;34m=\u001b[0m \u001b[0mDataInterface\u001b[0m\u001b[0;34m(\u001b[0m\u001b[0mnum_workers\u001b[0m\u001b[0;34m=\u001b[0m\u001b[0;36m1\u001b[0m\u001b[0;34m,\u001b[0m \u001b[0mdataset\u001b[0m\u001b[0;34m=\u001b[0m\u001b[0;34m'mask_dataset'\u001b[0m\u001b[0;34m,\u001b[0m \u001b[0mtore_dir\u001b[0m\u001b[0;34m=\u001b[0m\u001b[0;34m\"/mnt/nfs/work1/trahman/zhongyangzha/dvs_hpe/ntore_dataset/synthetic\"\u001b[0m\u001b[0;34m,\u001b[0m \u001b[0mmask_dir\u001b[0m\u001b[0;34m=\u001b[0m\u001b[0;34m'/mnt/nfs/work1/trahman/zhongyangzha/dvs_hpe/ntore_dataset/masks'\u001b[0m\u001b[0;34m,\u001b[0m \u001b[0mpercentile\u001b[0m\u001b[0;34m=\u001b[0m\u001b[0;36m90\u001b[0m\u001b[0;34m,\u001b[0m \u001b[0mseq_len\u001b[0m\u001b[0;34m=\u001b[0m\u001b[0;36m16\u001b[0m\u001b[0;34m,\u001b[0m \u001b[0macc_time\u001b[0m\u001b[0;34m=\u001b[0m\u001b[0;36m0.02\u001b[0m\u001b[0;34m,\u001b[0m \u001b[0mstep_size\u001b[0m\u001b[0;34m=\u001b[0m\u001b[0;36m0.02\u001b[0m\u001b[0;34m,\u001b[0m \u001b[0mcache_size\u001b[0m\u001b[0;34m=\u001b[0m\u001b[0;36m1\u001b[0m\u001b[0;34m,\u001b[0m \u001b[0mbase_number\u001b[0m\u001b[0;34m=\u001b[0m\u001b[0;36m128\u001b[0m\u001b[0;34m,\u001b[0m \u001b[0mtest_characters\u001b[0m\u001b[0;34m=\u001b[0m\u001b[0;34m[\u001b[0m\u001b[0;34m'Miku'\u001b[0m\u001b[0;34m]\u001b[0m\u001b[0;34m)\u001b[0m\u001b[0;34m\u001b[0m\u001b[0;34m\u001b[0m\u001b[0m\n\u001b[0m",
      "\u001b[0;31mNameError\u001b[0m: name 'DataInterface' is not defined"
     ]
    }
   ],
   "source": [
    "data = DataInterface(num_workers=1, dataset='mask_dataset', batch_size=1, \n",
    "                     tore_dir=\"/mnt/nfs/work1/trahman/zhongyangzha/dvs_hpe/ntore_dataset/synthetic\", \n",
    "                     mask_dir='/mnt/nfs/work1/trahman/zhongyangzha/dvs_hpe/ntore_dataset/masks', \n",
    "                     percentile=90, seq_len=16, acc_time=0.02, step_size=0.02, \n",
    "                     cache_size=1, base_number=128, test_characters=['Miku'])\n",
    "model = ModelInteface(model_name='unet', batch_size=1, use_convlstm=False, bilinear=False, loss='bce')"
   ]
  },
  {
   "cell_type": "code",
   "execution_count": null,
   "metadata": {},
   "outputs": [],
   "source": [
    "# ntores, masks = next(iter(data.test_dataloader()))\n",
    "# ntores = ntores.reshape((ntores.shape[0]*ntores.shape[1], *ntores.shape[2:]))\n",
    "# res = model(ntores)"
   ]
  },
  {
   "cell_type": "code",
   "execution_count": null,
   "metadata": {},
   "outputs": [],
   "source": [
    "idx = 2\n",
    "batch = data.testset[idx]\n",
    "ntores, masks = batch\n",
    "res = model.test_step(batch, idx)"
   ]
  }
 ],
 "metadata": {
  "interpreter": {
   "hash": "7451475cd909510cf51d1ba1f1bd4ebe55ce5ade50694a133e2b1826af241bd2"
  },
  "kernelspec": {
   "display_name": "Python 3.8.12 ('dvs_pose')",
   "language": "python",
   "name": "python3"
  },
  "language_info": {
   "codemirror_mode": {
    "name": "ipython",
    "version": 3
   },
   "file_extension": ".py",
   "mimetype": "text/x-python",
   "name": "python",
   "nbconvert_exporter": "python",
   "pygments_lexer": "ipython3",
   "version": "3.8.12"
  },
  "orig_nbformat": 4
 },
 "nbformat": 4,
 "nbformat_minor": 2
}
