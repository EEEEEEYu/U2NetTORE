{
 "cells": [
  {
   "cell_type": "code",
   "execution_count": 6,
   "metadata": {},
   "outputs": [],
   "source": [
    "import os\n",
    "import sys\n",
    "import os.path as op\n",
    "import numpy as np\n",
    "from matplotlib import pyplot as plt\n",
    "\n",
    "sys.path.append('..')\n",
    "from scripts.data import DataInterface\n",
    "from scripts.model import ModelInteface"
   ]
  },
  {
   "cell_type": "code",
   "execution_count": 5,
   "metadata": {},
   "outputs": [
    {
     "ename": "NameError",
     "evalue": "name 'DataInterface' is not defined",
     "output_type": "error",
     "traceback": [
      "\u001b[0;31m---------------------------------------------------------------------------\u001b[0m",
      "\u001b[0;31mNameError\u001b[0m                                 Traceback (most recent call last)",
      "\u001b[0;32m<ipython-input-5-5bcb5cb82615>\u001b[0m in \u001b[0;36m<module>\u001b[0;34m\u001b[0m\n\u001b[0;32m----> 1\u001b[0;31m \u001b[0mdata\u001b[0m \u001b[0;34m=\u001b[0m \u001b[0mDataInterface\u001b[0m\u001b[0;34m(\u001b[0m\u001b[0mnum_workers\u001b[0m\u001b[0;34m=\u001b[0m\u001b[0;36m1\u001b[0m\u001b[0;34m,\u001b[0m \u001b[0mdataset\u001b[0m\u001b[0;34m=\u001b[0m\u001b[0;34m'mask_dataset'\u001b[0m\u001b[0;34m,\u001b[0m \u001b[0mtore_dir\u001b[0m\u001b[0;34m=\u001b[0m\u001b[0;34m\"/mnt/nfs/work1/trahman/zhongyangzha/dvs_hpe/ntore_dataset/synthetic\"\u001b[0m\u001b[0;34m,\u001b[0m \u001b[0mmask_dir\u001b[0m\u001b[0;34m=\u001b[0m\u001b[0;34m'/mnt/nfs/work1/trahman/zhongyangzha/dvs_hpe/ntore_dataset/masks'\u001b[0m\u001b[0;34m,\u001b[0m \u001b[0mpercentile\u001b[0m\u001b[0;34m=\u001b[0m\u001b[0;36m90\u001b[0m\u001b[0;34m,\u001b[0m \u001b[0mseq_len\u001b[0m\u001b[0;34m=\u001b[0m\u001b[0;36m16\u001b[0m\u001b[0;34m,\u001b[0m \u001b[0macc_time\u001b[0m\u001b[0;34m=\u001b[0m\u001b[0;36m0.02\u001b[0m\u001b[0;34m,\u001b[0m \u001b[0mstep_size\u001b[0m\u001b[0;34m=\u001b[0m\u001b[0;36m0.02\u001b[0m\u001b[0;34m,\u001b[0m \u001b[0mcache_size\u001b[0m\u001b[0;34m=\u001b[0m\u001b[0;36m1\u001b[0m\u001b[0;34m,\u001b[0m \u001b[0mbase_number\u001b[0m\u001b[0;34m=\u001b[0m\u001b[0;36m128\u001b[0m\u001b[0;34m,\u001b[0m \u001b[0mtest_characters\u001b[0m\u001b[0;34m=\u001b[0m\u001b[0;34m[\u001b[0m\u001b[0;34m'Miku'\u001b[0m\u001b[0;34m]\u001b[0m\u001b[0;34m)\u001b[0m\u001b[0;34m\u001b[0m\u001b[0;34m\u001b[0m\u001b[0m\n\u001b[0m",
      "\u001b[0;31mNameError\u001b[0m: name 'DataInterface' is not defined"
     ]
    }
   ],
   "source": [
    "data = DataInterface(num_workers=1, dataset='mask_dataset', batch_size=1, \n",
    "                     tore_dir=\"/mnt/nfs/work1/trahman/zhongyangzha/dvs_hpe/ntore_dataset/synthetic\", \n",
    "                     mask_dir='/mnt/nfs/work1/trahman/zhongyangzha/dvs_hpe/ntore_dataset/masks', \n",
    "                     percentile=90, seq_len=16, acc_time=0.02, step_size=0.02, \n",
    "                     cache_size=1, base_number=128, test_characters=['Miku'])\n",
    "# model = ModelInteface(model_name='unet', batch_size=1, use_convlstm=False, bilinear=False, loss='bce')\n",
    "model = ModelInteface.load_from_checkpoint('/mnt/nfs/scratch1/zhongyangzha/U2NetTORE/lightning_logs/03-26-09-44/checkpoints/best-epoch=05-val_loss=0.013487.ckpt')"
   ]
  },
  {
   "cell_type": "code",
   "execution_count": null,
   "metadata": {},
   "outputs": [],
   "source": [
    "## In this way, model will use cpu\n",
    "# ntores, masks = next(iter(data.test_dataloader()))\n",
    "# ntores = ntores.reshape((ntores.shape[0]*ntores.shape[1], *ntores.shape[2:]))\n",
    "# res = model(ntores)"
   ]
  },
  {
   "cell_type": "code",
   "execution_count": null,
   "metadata": {},
   "outputs": [],
   "source": [
    "# GPU automatically used\n",
    "idx = 2\n",
    "batch = data.testset[idx]\n",
    "ntores, masks = batch\n",
    "res = model.test_step(batch, idx)"
   ]
  }
 ],
 "metadata": {
  "interpreter": {
   "hash": "7451475cd909510cf51d1ba1f1bd4ebe55ce5ade50694a133e2b1826af241bd2"
  },
  "kernelspec": {
   "display_name": "Python 3.8.12 ('dvs_pose')",
   "language": "python",
   "name": "python3"
  },
  "language_info": {
   "codemirror_mode": {
    "name": "ipython",
    "version": 3
   },
   "file_extension": ".py",
   "mimetype": "text/x-python",
   "name": "python",
   "nbconvert_exporter": "python",
   "pygments_lexer": "ipython3",
   "version": "3.8.12"
  },
  "orig_nbformat": 4
 },
 "nbformat": 4,
 "nbformat_minor": 2
}
