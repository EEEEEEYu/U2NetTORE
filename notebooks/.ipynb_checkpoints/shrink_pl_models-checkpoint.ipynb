{
 "cells": [
  {
   "cell_type": "code",
   "execution_count": 2,
   "id": "7941b2f2",
   "metadata": {},
   "outputs": [],
   "source": [
    "import os\n",
    "import sys\n",
    "import time\n",
    "import glob\n",
    "import json\n",
    "import torch\n",
    "import torch.nn as nn\n",
    "import yaml\n",
    "import numpy as np\n",
    "import pickle as pkl\n",
    "import os.path as op\n",
    "import pytorch_lightning as pl\n",
    "import matplotlib.pyplot as plt\n",
    "from pathlib2 import Path\n",
    "\n",
    "sys.path.append('..')\n",
    "from scripts.model.unet_interface import ModelInteface\n",
    "\n",
    "%load_ext autoreload\n",
    "%autoreload 2"
   ]
  },
  {
   "cell_type": "code",
   "execution_count": 3,
   "id": "894e3f00",
   "metadata": {},
   "outputs": [],
   "source": [
    "def time_string():\n",
    "    \"\"\" Generate a time string from year to second.\n",
    "    \"\"\"\n",
    "    return time.strftime(\"%Y-%m-%d_%H-%M-%S\", time.localtime())\n",
    "\n",
    "def get_model_path(date, root='/mnt/nfs/scratch1/zhongyangzha/DVS_HPE/dvs-hpe-light/lightning_logs', best=True):\n",
    "    model_subdir = op.join(root, date, 'checkpoints')\n",
    "    if best:\n",
    "        model_path = glob.glob(op.join(model_subdir, 'best*'))[0]\n",
    "    else:\n",
    "        model_path = op.join(model_subdir, 'last.ckpt')\n",
    "    return model_path\n",
    "\n",
    "def load_model(time_str='05-25-16-19-04', best=True, device='cuda'):\n",
    "    model_path = get_model_path(time_str, best=True)\n",
    "    model = ModelInteface.load_from_checkpoint(model_path)\n",
    "    model = model.to(device)\n",
    "    print('Using trained model: ', model_path)\n",
    "    return model"
   ]
  },
  {
   "cell_type": "code",
   "execution_count": 4,
   "id": "734fb1ab",
   "metadata": {},
   "outputs": [
    {
     "name": "stdout",
     "output_type": "stream",
     "text": [
      "Model hparams saved!\n",
      "Output channel number: 16\n",
      "Model hparams saved!\n",
      "Output channel number: 16\n"
     ]
    }
   ],
   "source": [
    "model_ori_path = get_model_path('06-10-21-14-08', root='/mnt/nfs/scratch1/zhongyangzha/DVS_HPE/U2NetTORE/lightning_logs/', best=True)\n",
    "model_ori = ModelInteface.load_from_checkpoint(model_ori_path)"
   ]
  },
  {
   "cell_type": "code",
   "execution_count": 5,
   "id": "a39ad9fb",
   "metadata": {},
   "outputs": [
    {
     "ename": "NameError",
     "evalue": "name 'sizeof' is not defined",
     "output_type": "error",
     "traceback": [
      "\u001b[0;31m---------------------------------------------------------------------------\u001b[0m",
      "\u001b[0;31mNameError\u001b[0m                                 Traceback (most recent call last)",
      "\u001b[0;32m/tmp/ipykernel_78845/1571400271.py\u001b[0m in \u001b[0;36m<module>\u001b[0;34m\u001b[0m\n\u001b[0;32m----> 1\u001b[0;31m \u001b[0msizeof\u001b[0m\u001b[0;34m\u001b[0m\u001b[0;34m\u001b[0m\u001b[0m\n\u001b[0m",
      "\u001b[0;31mNameError\u001b[0m: name 'sizeof' is not defined"
     ]
    }
   ],
   "source": [
    "torch.save(model_ori.model)"
   ]
  },
  {
   "cell_type": "code",
   "execution_count": null,
   "id": "68c83af6",
   "metadata": {},
   "outputs": [],
   "source": []
  }
 ],
 "metadata": {
  "kernelspec": {
   "display_name": "Python 3 (ipykernel)",
   "language": "python",
   "name": "python3"
  },
  "language_info": {
   "codemirror_mode": {
    "name": "ipython",
    "version": 3
   },
   "file_extension": ".py",
   "mimetype": "text/x-python",
   "name": "python",
   "nbconvert_exporter": "python",
   "pygments_lexer": "ipython3",
   "version": "3.8.12"
  }
 },
 "nbformat": 4,
 "nbformat_minor": 5
}
